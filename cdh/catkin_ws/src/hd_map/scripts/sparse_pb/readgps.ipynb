{
 "cells": [
  {
   "cell_type": "code",
   "execution_count": 6,
   "metadata": {},
   "outputs": [
    {
     "name": "stdout",
     "output_type": "stream",
     "text": [
      "1,1,1\n"
     ]
    }
   ],
   "source": [
    "import numpy as np\n",
    "m=[1,1,1]\n",
    "# n=m.tostring()\n",
    "ss=[str(i) for i in m]\n",
    "n=\",\".join(ss)\n",
    "print(n)"
   ]
  },
  {
   "cell_type": "code",
   "execution_count": 9,
   "metadata": {},
   "outputs": [],
   "source": [
    "lidar = np.array([[[1, 2, 3], [3, 4, 5],[1,1,1]],[[1, 2, 3], [3, 4, 5],[1,1,1]],[[1, 2, 3], [3, 4, 5],[1,1,1]]])"
   ]
  },
  {
   "cell_type": "code",
   "execution_count": 10,
   "metadata": {},
   "outputs": [],
   "source": [
    "x = lidar[:, :, 0].reshape(-1)\n",
    "y = lidar[:, :, 1].reshape(-1)\n",
    "z = lidar[:, :, 2].reshape(-1)\n",
    "cloud = np.stack((x, y, z))"
   ]
  },
  {
   "cell_type": "code",
   "execution_count": 11,
   "metadata": {},
   "outputs": [
    {
     "data": {
      "text/plain": [
       "array([[1, 3, 1, 1, 3, 1, 1, 3, 1],\n",
       "       [2, 4, 1, 2, 4, 1, 2, 4, 1],\n",
       "       [3, 5, 1, 3, 5, 1, 3, 5, 1]])"
      ]
     },
     "execution_count": 11,
     "metadata": {},
     "output_type": "execute_result"
    }
   ],
   "source": [
    "cloud"
   ]
  },
  {
   "cell_type": "code",
   "execution_count": 18,
   "metadata": {},
   "outputs": [
    {
     "name": "stdout",
     "output_type": "stream",
     "text": [
      "['22.68176642', '114.36814367', '0.00000000', '22.68177278', '114.36816370', '0.00000000', '22.68176088', '114.36817013', '0.00000000', '22.68175855', '114.36815157', '0.00000000', '22.68176642', '114.36814367', '0.00000000']\n",
      "[[ 22.68176642 114.36814367   0.        ]\n",
      " [ 22.68177278 114.3681637    0.        ]\n",
      " [ 22.68176088 114.36817013   0.        ]\n",
      " [ 22.68175855 114.36815157   0.        ]\n",
      " [ 22.68176642 114.36814367   0.        ]]\n"
     ]
    },
    {
     "data": {
      "text/plain": [
       "array([[ 22.68176642,  22.68177278,  22.68176088,  22.68175855,\n",
       "         22.68176642],\n",
       "       [114.36814367, 114.3681637 , 114.36817013, 114.36815157,\n",
       "        114.36814367],\n",
       "       [  0.        ,   0.        ,   0.        ,   0.        ,\n",
       "          0.        ]])"
      ]
     },
     "execution_count": 18,
     "metadata": {},
     "output_type": "execute_result"
    }
   ],
   "source": [
    "import re\n",
    "sss=\"POLYGON Z ((22.68176642 114.36814367 0.00000000, 22.68177278 114.36816370 0.00000000, 22.68176088 114.36817013 0.00000000, 22.68175855 114.36815157 0.00000000, 22.68176642 114.36814367 0.00000000))\"\n",
    "tmp=re.findall(r\"\\d+\\.?\\d*\", sss)\n",
    "print(tmp)\n",
    "temp_point =np.array([tmp[i:i + 3] for i in range(0, len(tmp), 3)], dtype=float)\n",
    "print(temp_point)\n",
    "x = temp_point[ :, 0].reshape(-1)\n",
    "y = temp_point[:, 1].reshape(-1)\n",
    "z = temp_point[:, 2].reshape(-1)\n",
    "cloud = np.stack((x, y, z))\n",
    "cloud"
   ]
  }
 ],
 "metadata": {
  "kernelspec": {
   "display_name": "Python 2",
   "language": "python",
   "name": "python2"
  },
  "language_info": {
   "codemirror_mode": {
    "name": "ipython",
    "version": 2
   },
   "file_extension": ".py",
   "mimetype": "text/x-python",
   "name": "python",
   "nbconvert_exporter": "python",
   "pygments_lexer": "ipython2",
   "version": "2.7.16"
  }
 },
 "nbformat": 4,
 "nbformat_minor": 2
}
